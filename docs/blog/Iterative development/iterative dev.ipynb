{
 "cells": [
  {
   "cell_type": "markdown",
   "metadata": {},
   "source": [
    "Preface - Iterative Developent"
   ]
  },
  {
   "cell_type": "markdown",
   "metadata": {},
   "source": [
    "Time is money, so the saying goes. Software developing projects typically cost more then what was budgeted. Iterative Developent can speed up development and minimizes defects.\n",
    "\n",
    "Teams working together helps. Team members safely work on thier deliverables at the sametime. They share their work with stakeholdsrs by easily creating private websites. The stakeholders, including team members, provide feedback.\n",
    "\n",
    "Team members development environments and tools continuely check for errors. The primary programming language is Markdown using the VScode editor environment."
   ]
  },
  {
   "cell_type": "code",
   "execution_count": null,
   "metadata": {
    "vscode": {
     "languageId": "plaintext"
    }
   },
   "outputs": [],
   "source": []
  },
  {
   "cell_type": "markdown",
   "metadata": {},
   "source": []
  }
 ],
 "metadata": {
  "language_info": {
   "name": "python"
  }
 },
 "nbformat": 4,
 "nbformat_minor": 2
}
