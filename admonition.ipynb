{
 "cells": [
  {
   "cell_type": "markdown",
   "metadata": {},
   "source": [
    "<div>\n",
    "    hello\n",
    "</div>\n",
    "\n",
    "<div class=\"admonition danger\">\n",
    "<p class=\"admonition-title\">Danger</p>\n",
    "<p>Do not try to do this at home</p>\n",
    "</div>\n",
    "\n",
    "\n",
    "| :exclamation:  This is very important   |\n",
    "|-----------------------------------------|"
   ]
  },
  {
   "cell_type": "markdown",
   "metadata": {},
   "source": []
  }
 ],
 "metadata": {
  "language_info": {
   "name": "python"
  }
 },
 "nbformat": 4,
 "nbformat_minor": 2
}
