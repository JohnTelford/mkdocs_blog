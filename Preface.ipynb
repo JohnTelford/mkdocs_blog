{
 "cells": [
  {
   "cell_type": "markdown",
   "id": "01ba26db-1dec-44c0-bd8b-6daac41cbbe4",
   "metadata": {},
   "source": [
    "# Preface - Iterative Website Developent\n",
    "\n",
    "Time is money, so the saying goes. Software developing projects typically cost more then what was budgeted. Iterative Developent technology can speed up development and minimizes defects.\n",
    "\n",
    "Teams working together helps reduce the costs. Team members can safely work on their deliverables at the sametime. They share their work with stakeholdsrs by easily creating private websites. The stakeholders, including team members, provide feedback.\n",
    "\n",
    "Team members development environments and tools continuely check for errors. The primary programming language is Markdown using the VScode editor environment.\n"
   ]
  }
 ],
 "metadata": {
  "kernelspec": {
   "display_name": "Python 3 (ipykernel)",
   "language": "python",
   "name": "python3"
  },
  "language_info": {
   "codemirror_mode": {
    "name": "ipython",
    "version": 3
   },
   "file_extension": ".py",
   "mimetype": "text/x-python",
   "name": "python",
   "nbconvert_exporter": "python",
   "pygments_lexer": "ipython3",
   "version": "3.11.2"
  }
 },
 "nbformat": 4,
 "nbformat_minor": 5
}
